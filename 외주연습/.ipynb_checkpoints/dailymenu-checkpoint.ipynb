{
 "cells": [
  {
   "cell_type": "code",
   "execution_count": 131,
   "id": "fdc5dc44-6743-440a-bd7e-057ab7ff810f",
   "metadata": {},
   "outputs": [],
   "source": [
    "from bs4 import BeautifulSoup as bs\n",
    "import requests\n",
    "import pandas as pd\n",
    "import lxml"
   ]
  },
  {
   "cell_type": "code",
   "execution_count": 132,
   "id": "bf0603a1-87d1-4f93-8ddb-33b88907f59e",
   "metadata": {},
   "outputs": [],
   "source": [
    "url='https://www.gnu.ac.kr/dorm/ad/fm/foodmenu/selectFoodMenuView.do?restSeq=47&mi=7278'\n",
    "soup=bs(requests.get(url).text,'lxml')"
   ]
  },
  {
   "cell_type": "code",
   "execution_count": 133,
   "id": "3187e530-6c37-42bf-917c-57b958987904",
   "metadata": {},
   "outputs": [],
   "source": [
    "main=soup.find_all('tr')"
   ]
  },
  {
   "cell_type": "code",
   "execution_count": 134,
   "id": "f9a73a83-243f-4491-b7e7-462b12b7f1b5",
   "metadata": {},
   "outputs": [],
   "source": [
    "raw_breakfast=main[1].find_all('td')\n",
    "raw_lunch=main[2].find_all('td')\n",
    "raw_dinner=main[3].find_all('td')\n",
    "raw_date=main[0].find_all('th')[1:]"
   ]
  },
  {
   "cell_type": "code",
   "execution_count": 135,
   "id": "b02f7d74-9672-4494-8e27-d63990b1a267",
   "metadata": {},
   "outputs": [
    {
     "data": {
      "text/plain": [
       "<td>\n",
       "<div>\n",
       "<p class=\"fm_tit_p mgt15\">A코스/한식</p>\n",
       "<p class=\"\">쌀밥 / 누룽지<br/>시락국<br/>모듬소시지야채볶음<br/>두부민찌조림<br/>참나물겉절이<br/>배추김치<br/>모듬음료</p>\n",
       "</div>\n",
       "<div>\n",
       "<p class=\"fm_tit_p mgt15\">B코스/베이커리</p>\n",
       "<p class=\"\">미니찐빵<br/>씨리얼<br/>후랑크구이*케찹<br/>블루베리양상추샐러드*망고D<br/>모듬음료<br/></p>\n",
       "</div>\n",
       "<div>\n",
       "<p class=\"fm_tit_p mgt15\">C코스/죽식</p>\n",
       "<p class=\"\">주꾸미갱시기죽<br/>두부민찌조림<br/>참나물겉절이<br/>배추김치<br/>모듬음료</p>\n",
       "</div>\n",
       "<div>\n",
       "<p class=\"fm_tit_p mgt15\">테이크아웃</p>\n",
       "<p class=\"\">쉐이크<br/>통밀도너츠<br/>모듬음료</p>\n",
       "</div>\n",
       "</td>"
      ]
     },
     "execution_count": 135,
     "metadata": {},
     "output_type": "execute_result"
    }
   ],
   "source": [
    "raw_breakfast[0]"
   ]
  },
  {
   "cell_type": "code",
   "execution_count": 136,
   "id": "64b06209-32f9-43f9-bbdc-4b780e36971f",
   "metadata": {},
   "outputs": [],
   "source": [
    "breakfast=[]\n",
    "lunch=[]\n",
    "dinner=[]\n",
    "date=[]\n",
    "\n",
    "def getmenu(x):\n",
    "    asdfasdf\n",
    "\n",
    "for d in raw_date:\n",
    "    date.append(d.text)\n",
    "\n",
    "#for b in raw_breakfast:\n",
    "\n",
    "# for b in raw_breakfast:\n",
    "#     breakfast[('p',attrs={'class':'fm_tit_p mgt15'}).text]"
   ]
  },
  {
   "cell_type": "code",
   "execution_count": 141,
   "id": "081913c7-c8c0-4e47-9fd3-33aaac5ba657",
   "metadata": {},
   "outputs": [
    {
     "data": {
      "text/plain": [
       "<td>\n",
       "<div>\n",
       "<p class=\"fm_tit_p mgt15\">A코스/한식</p>\n",
       "<p class=\"\">쌀밥 / 누룽지<br/>시락국<br/>모듬소시지야채볶음<br/>두부민찌조림<br/>참나물겉절이<br/>배추김치<br/>모듬음료</p>\n",
       "</div>\n",
       "<div>\n",
       "<p class=\"fm_tit_p mgt15\">B코스/베이커리</p>\n",
       "<p class=\"\">미니찐빵<br/>씨리얼<br/>후랑크구이*케찹<br/>블루베리양상추샐러드*망고D<br/>모듬음료<br/></p>\n",
       "</div>\n",
       "<div>\n",
       "<p class=\"fm_tit_p mgt15\">C코스/죽식</p>\n",
       "<p class=\"\">주꾸미갱시기죽<br/>두부민찌조림<br/>참나물겉절이<br/>배추김치<br/>모듬음료</p>\n",
       "</div>\n",
       "<div>\n",
       "<p class=\"fm_tit_p mgt15\">테이크아웃</p>\n",
       "<p class=\"\">쉐이크<br/>통밀도너츠<br/>모듬음료</p>\n",
       "</div>\n",
       "</td>"
      ]
     },
     "execution_count": 141,
     "metadata": {},
     "output_type": "execute_result"
    }
   ],
   "source": [
    "raw_breakfast[0]"
   ]
  },
  {
   "cell_type": "code",
   "execution_count": 138,
   "id": "fb252e8f-d915-4ec5-899a-01728675fb2a",
   "metadata": {},
   "outputs": [],
   "source": [
    "df=pd.DataFrame([breakfast,lunch,dinner],columns=cleaned_date)"
   ]
  },
  {
   "cell_type": "code",
   "execution_count": 139,
   "id": "612423a3-7dfa-4857-bbed-b4ba8488798d",
   "metadata": {},
   "outputs": [
    {
     "data": {
      "text/html": [
       "<div>\n",
       "<style scoped>\n",
       "    .dataframe tbody tr th:only-of-type {\n",
       "        vertical-align: middle;\n",
       "    }\n",
       "\n",
       "    .dataframe tbody tr th {\n",
       "        vertical-align: top;\n",
       "    }\n",
       "\n",
       "    .dataframe thead th {\n",
       "        text-align: right;\n",
       "    }\n",
       "</style>\n",
       "<table border=\"1\" class=\"dataframe\">\n",
       "  <thead>\n",
       "    <tr style=\"text-align: right;\">\n",
       "      <th></th>\n",
       "      <th>월 2025-03-31</th>\n",
       "      <th>화 2025-04-01</th>\n",
       "      <th>수 2025-04-02</th>\n",
       "      <th>목 2025-04-03</th>\n",
       "      <th>금 2025-04-04</th>\n",
       "      <th>토 2025-04-05</th>\n",
       "      <th>일 2025-04-06</th>\n",
       "    </tr>\n",
       "  </thead>\n",
       "  <tbody>\n",
       "    <tr>\n",
       "      <th>0</th>\n",
       "      <td>NaN</td>\n",
       "      <td>NaN</td>\n",
       "      <td>NaN</td>\n",
       "      <td>NaN</td>\n",
       "      <td>NaN</td>\n",
       "      <td>NaN</td>\n",
       "      <td>NaN</td>\n",
       "    </tr>\n",
       "    <tr>\n",
       "      <th>1</th>\n",
       "      <td>NaN</td>\n",
       "      <td>NaN</td>\n",
       "      <td>NaN</td>\n",
       "      <td>NaN</td>\n",
       "      <td>NaN</td>\n",
       "      <td>NaN</td>\n",
       "      <td>NaN</td>\n",
       "    </tr>\n",
       "    <tr>\n",
       "      <th>2</th>\n",
       "      <td>NaN</td>\n",
       "      <td>NaN</td>\n",
       "      <td>NaN</td>\n",
       "      <td>NaN</td>\n",
       "      <td>NaN</td>\n",
       "      <td>NaN</td>\n",
       "      <td>NaN</td>\n",
       "    </tr>\n",
       "  </tbody>\n",
       "</table>\n",
       "</div>"
      ],
      "text/plain": [
       "   월 2025-03-31  화 2025-04-01  수 2025-04-02  목 2025-04-03  금 2025-04-04  \\\n",
       "0           NaN           NaN           NaN           NaN           NaN   \n",
       "1           NaN           NaN           NaN           NaN           NaN   \n",
       "2           NaN           NaN           NaN           NaN           NaN   \n",
       "\n",
       "   토 2025-04-05  일 2025-04-06  \n",
       "0           NaN           NaN  \n",
       "1           NaN           NaN  \n",
       "2           NaN           NaN  "
      ]
     },
     "execution_count": 139,
     "metadata": {},
     "output_type": "execute_result"
    }
   ],
   "source": [
    "df"
   ]
  }
 ],
 "metadata": {
  "kernelspec": {
   "display_name": "Python 3 (ipykernel)",
   "language": "python",
   "name": "python3"
  },
  "language_info": {
   "codemirror_mode": {
    "name": "ipython",
    "version": 3
   },
   "file_extension": ".py",
   "mimetype": "text/x-python",
   "name": "python",
   "nbconvert_exporter": "python",
   "pygments_lexer": "ipython3",
   "version": "3.13.2"
  }
 },
 "nbformat": 4,
 "nbformat_minor": 5
}
