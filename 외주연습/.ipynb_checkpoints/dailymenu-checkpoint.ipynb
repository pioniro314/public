{
 "cells": [
  {
   "cell_type": "code",
   "execution_count": 1,
   "id": "fdc5dc44-6743-440a-bd7e-057ab7ff810f",
   "metadata": {},
   "outputs": [],
   "source": [
    "from bs4 import BeautifulSoup as bs\n",
    "import requests\n",
    "import pandas as pd\n",
    "import lxml"
   ]
  },
  {
   "cell_type": "code",
   "execution_count": 13,
   "id": "bf0603a1-87d1-4f93-8ddb-33b88907f59e",
   "metadata": {},
   "outputs": [],
   "source": [
    "url='https://www.gnu.ac.kr/dorm/ad/fm/foodmenu/selectFoodMenuView.do?restSeq=47&mi=7278'\n",
    "res=requests.get(url)\n",
    "res.raise_for_status()\n",
    "soup=bs(res.text,'lxml')"
   ]
  },
  {
   "cell_type": "code",
   "execution_count": 14,
   "id": "3187e530-6c37-42bf-917c-57b958987904",
   "metadata": {},
   "outputs": [],
   "source": [
    "main=soup.find_all('tr')"
   ]
  },
  {
   "cell_type": "code",
   "execution_count": 15,
   "id": "f9a73a83-243f-4491-b7e7-462b12b7f1b5",
   "metadata": {},
   "outputs": [],
   "source": [
    "raw_breakfast=main[1].find_all('td')\n",
    "raw_lunch=main[2].find_all('td')\n",
    "raw_dinner=main[3].find_all('td')\n",
    "raw_date=main[0].find_all('th')[1:]"
   ]
  },
  {
   "cell_type": "code",
   "execution_count": 59,
   "id": "64b06209-32f9-43f9-bbdc-4b780e36971f",
   "metadata": {},
   "outputs": [],
   "source": [
    "breakfast=[] # 결국 원하는건 breakfast=[코스\\n식단\\n식단, 코스\\n...]\n",
    "lunch=[]\n",
    "dinner=[]\n",
    "date=[]\n",
    "notice='[공지]\\r\\n어플연동시\\r\\n당일 메뉴 오류가 빈번하게 발생합니다. 학생생활관 홈페이지에서 메뉴를 확인해주세요.'\n",
    "\n",
    "def clean(r,c,din=False):\n",
    "    if din==False:\n",
    "        for i in r:\n",
    "            result_elem=''\n",
    "            for j in i.find_all('div'):\n",
    "                result_elem+=j.get_text(separator='\\n')\n",
    "            c.append(result_elem.replace('\\n','\\r\\n').strip())\n",
    "    else:\n",
    "        for i in r:\n",
    "            result_elem=''\n",
    "            for j in i.find_all('div'):\n",
    "                result_elem+=j.get_text(separator='\\n')\n",
    "            c.append(result_elem.replace('\\n','\\r\\n').replace(notice,'').strip())\n",
    "\n",
    "clean(raw_breakfast,breakfast)\n",
    "clean(raw_lunch,lunch)\n",
    "clean(raw_dinner,dinner,din=True)\n",
    "\n",
    "for d in raw_date:\n",
    "    date.append(d.text)"
   ]
  },
  {
   "cell_type": "code",
   "execution_count": 60,
   "id": "b02f7d74-9672-4494-8e27-d63990b1a267",
   "metadata": {},
   "outputs": [
    {
     "name": "stdout",
     "output_type": "stream",
     "text": [
      "\n",
      "\n",
      "테이크아웃\n",
      "\n",
      "\n",
      "쉐이크\n",
      "통밀도너츠\n",
      "모듬음료\n",
      "\n",
      "\n"
     ]
    }
   ],
   "source": [
    "print(raw_breakfast[0].find_all('div')[3].get_text(separator='\\r\\n'))"
   ]
  },
  {
   "cell_type": "code",
   "execution_count": 62,
   "id": "fb252e8f-d915-4ec5-899a-01728675fb2a",
   "metadata": {},
   "outputs": [],
   "source": [
    "df=pd.DataFrame([breakfast,lunch,dinner],columns=date)"
   ]
  },
  {
   "cell_type": "code",
   "execution_count": 65,
   "id": "612423a3-7dfa-4857-bbed-b4ba8488798d",
   "metadata": {},
   "outputs": [
    {
     "data": {
      "text/html": [
       "<div>\n",
       "<style scoped>\n",
       "    .dataframe tbody tr th:only-of-type {\n",
       "        vertical-align: middle;\n",
       "    }\n",
       "\n",
       "    .dataframe tbody tr th {\n",
       "        vertical-align: top;\n",
       "    }\n",
       "\n",
       "    .dataframe thead th {\n",
       "        text-align: right;\n",
       "    }\n",
       "</style>\n",
       "<table border=\"1\" class=\"dataframe\">\n",
       "  <thead>\n",
       "    <tr style=\"text-align: right;\">\n",
       "      <th></th>\n",
       "      <th>월 2025-03-31</th>\n",
       "      <th>화 2025-04-01</th>\n",
       "      <th>수 2025-04-02</th>\n",
       "      <th>목 2025-04-03</th>\n",
       "      <th>금 2025-04-04</th>\n",
       "      <th>토 2025-04-05</th>\n",
       "      <th>일 2025-04-06</th>\n",
       "    </tr>\n",
       "  </thead>\n",
       "  <tbody>\n",
       "    <tr>\n",
       "      <th>0</th>\n",
       "      <td>A코스/한식\\r\\n\\r\\n\\r\\n쌀밥 / 누룽지\\r\\n시락국\\r\\n모듬소시지야채볶음...</td>\n",
       "      <td>A코스/한식\\r\\n\\r\\n\\r\\n쌀밥 / 누룽지\\r\\n계란파국\\r\\n한입떡갈비조림\\...</td>\n",
       "      <td>A코스/한식\\r\\n\\r\\n\\r\\n쌀밥 / 누룽지\\r\\n감자맑은국\\r\\n제육김치볶음\\...</td>\n",
       "      <td>A코스/한식\\r\\n\\r\\n\\r\\n쌀밥 / 누룽지\\r\\n미역국\\r\\n부대볶음\\r\\n스...</td>\n",
       "      <td>A코스/한식\\r\\n\\r\\n\\r\\n쌀밥 / 누룽지\\r\\n계란떡국\\r\\n분홍시지전*케찹...</td>\n",
       "      <td>A코스/한식\\r\\n\\r\\n\\r\\n쌀밥 / 누룽지\\r\\n콩나물국\\r\\n고추참치볶음\\r...</td>\n",
       "      <td>A코스/한식\\r\\n\\r\\n\\r\\n쌀밥 / 누룽지\\r\\n소고기해장국\\r\\n언양식불고기...</td>\n",
       "    </tr>\n",
       "    <tr>\n",
       "      <th>1</th>\n",
       "      <td>A코스/한식\\r\\n\\r\\n\\r\\n쌀밥\\r\\n부대찌개\\r\\n가자미구이*유린기s\\r\\n...</td>\n",
       "      <td>A코스/한식\\r\\n\\r\\n\\r\\n쌀밥\\r\\n어묵국\\r\\n김치피자탕수육\\r\\n맛살조랭...</td>\n",
       "      <td>A코스/한식\\r\\n\\r\\n\\r\\n쌀밥\\r\\n고추장찌개\\r\\n새우까스*타르S\\r\\n봉...</td>\n",
       "      <td>A코스/한식\\r\\n\\r\\n\\r\\n흑미밥\\r\\n大)삼겹김치찌개\\r\\n미니메밀전병\\r\\...</td>\n",
       "      <td>A코스/한식\\r\\n\\r\\n\\r\\n쌀밥\\r\\n시금치된장국\\r\\n고추장불고기\\r\\n실곤...</td>\n",
       "      <td>A코스/한식\\r\\n\\r\\n\\r\\n쌀밥\\r\\n북어국\\r\\n산적야채조림\\r\\n야채계란찜...</td>\n",
       "      <td>A코스/한식\\r\\n\\r\\n\\r\\n쌀밥\\r\\n참깨수제비국\\r\\n적어구이\\r\\n후랑크야...</td>\n",
       "    </tr>\n",
       "    <tr>\n",
       "      <th>2</th>\n",
       "      <td>A코스/한식\\r\\n\\r\\n\\r\\n쌀밥\\r\\n김치국\\r\\n돈육숙주볶음\\r\\n그린빈스햄...</td>\n",
       "      <td>A코스/한식\\r\\n\\r\\n\\r\\n쌀밥\\r\\n감자수제비국\\r\\n순살돈까스*소스\\r\\n...</td>\n",
       "      <td>A코스/한식\\r\\n\\r\\n\\r\\n미트볼카레덮밥\\r\\n소고기무국\\r\\n야채고로케*케찹...</td>\n",
       "      <td>A코스/한식\\r\\n\\r\\n\\r\\n쌀밥   \\r\\n순두부찌개\\r\\n고등어무조림\\r\\n...</td>\n",
       "      <td>A코스/한식\\r\\n\\r\\n\\r\\n쌀밥   \\r\\n육개장\\r\\n모듬메추리알조림\\r\\n...</td>\n",
       "      <td>A코스/한식\\r\\n\\r\\n\\r\\n쌀밥\\r\\n근대된장국\\r\\n돈육간장불고기\\r\\n양배...</td>\n",
       "      <td>A코스/한식\\r\\n\\r\\n\\r\\n쌀밥\\r\\n짬뽕국\\r\\n미니돈까스*강정S\\r\\n부추...</td>\n",
       "    </tr>\n",
       "  </tbody>\n",
       "</table>\n",
       "</div>"
      ],
      "text/plain": [
       "                                        월 2025-03-31  \\\n",
       "0  A코스/한식\\r\\n\\r\\n\\r\\n쌀밥 / 누룽지\\r\\n시락국\\r\\n모듬소시지야채볶음...   \n",
       "1  A코스/한식\\r\\n\\r\\n\\r\\n쌀밥\\r\\n부대찌개\\r\\n가자미구이*유린기s\\r\\n...   \n",
       "2  A코스/한식\\r\\n\\r\\n\\r\\n쌀밥\\r\\n김치국\\r\\n돈육숙주볶음\\r\\n그린빈스햄...   \n",
       "\n",
       "                                        화 2025-04-01  \\\n",
       "0  A코스/한식\\r\\n\\r\\n\\r\\n쌀밥 / 누룽지\\r\\n계란파국\\r\\n한입떡갈비조림\\...   \n",
       "1  A코스/한식\\r\\n\\r\\n\\r\\n쌀밥\\r\\n어묵국\\r\\n김치피자탕수육\\r\\n맛살조랭...   \n",
       "2  A코스/한식\\r\\n\\r\\n\\r\\n쌀밥\\r\\n감자수제비국\\r\\n순살돈까스*소스\\r\\n...   \n",
       "\n",
       "                                        수 2025-04-02  \\\n",
       "0  A코스/한식\\r\\n\\r\\n\\r\\n쌀밥 / 누룽지\\r\\n감자맑은국\\r\\n제육김치볶음\\...   \n",
       "1  A코스/한식\\r\\n\\r\\n\\r\\n쌀밥\\r\\n고추장찌개\\r\\n새우까스*타르S\\r\\n봉...   \n",
       "2  A코스/한식\\r\\n\\r\\n\\r\\n미트볼카레덮밥\\r\\n소고기무국\\r\\n야채고로케*케찹...   \n",
       "\n",
       "                                        목 2025-04-03  \\\n",
       "0  A코스/한식\\r\\n\\r\\n\\r\\n쌀밥 / 누룽지\\r\\n미역국\\r\\n부대볶음\\r\\n스...   \n",
       "1  A코스/한식\\r\\n\\r\\n\\r\\n흑미밥\\r\\n大)삼겹김치찌개\\r\\n미니메밀전병\\r\\...   \n",
       "2  A코스/한식\\r\\n\\r\\n\\r\\n쌀밥   \\r\\n순두부찌개\\r\\n고등어무조림\\r\\n...   \n",
       "\n",
       "                                        금 2025-04-04  \\\n",
       "0  A코스/한식\\r\\n\\r\\n\\r\\n쌀밥 / 누룽지\\r\\n계란떡국\\r\\n분홍시지전*케찹...   \n",
       "1  A코스/한식\\r\\n\\r\\n\\r\\n쌀밥\\r\\n시금치된장국\\r\\n고추장불고기\\r\\n실곤...   \n",
       "2  A코스/한식\\r\\n\\r\\n\\r\\n쌀밥   \\r\\n육개장\\r\\n모듬메추리알조림\\r\\n...   \n",
       "\n",
       "                                        토 2025-04-05  \\\n",
       "0  A코스/한식\\r\\n\\r\\n\\r\\n쌀밥 / 누룽지\\r\\n콩나물국\\r\\n고추참치볶음\\r...   \n",
       "1  A코스/한식\\r\\n\\r\\n\\r\\n쌀밥\\r\\n북어국\\r\\n산적야채조림\\r\\n야채계란찜...   \n",
       "2  A코스/한식\\r\\n\\r\\n\\r\\n쌀밥\\r\\n근대된장국\\r\\n돈육간장불고기\\r\\n양배...   \n",
       "\n",
       "                                        일 2025-04-06  \n",
       "0  A코스/한식\\r\\n\\r\\n\\r\\n쌀밥 / 누룽지\\r\\n소고기해장국\\r\\n언양식불고기...  \n",
       "1  A코스/한식\\r\\n\\r\\n\\r\\n쌀밥\\r\\n참깨수제비국\\r\\n적어구이\\r\\n후랑크야...  \n",
       "2  A코스/한식\\r\\n\\r\\n\\r\\n쌀밥\\r\\n짬뽕국\\r\\n미니돈까스*강정S\\r\\n부추...  "
      ]
     },
     "metadata": {},
     "output_type": "display_data"
    }
   ],
   "source": [
    "display(df)\n",
    "df.to_csv('/home/pioniro/식단.csv')"
   ]
  }
 ],
 "metadata": {
  "kernelspec": {
   "display_name": "Python 3 (ipykernel)",
   "language": "python",
   "name": "python3"
  },
  "language_info": {
   "codemirror_mode": {
    "name": "ipython",
    "version": 3
   },
   "file_extension": ".py",
   "mimetype": "text/x-python",
   "name": "python",
   "nbconvert_exporter": "python",
   "pygments_lexer": "ipython3",
   "version": "3.13.2"
  }
 },
 "nbformat": 4,
 "nbformat_minor": 5
}
