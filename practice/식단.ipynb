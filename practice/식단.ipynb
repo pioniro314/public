{
 "cells": [
  {
   "cell_type": "code",
   "execution_count": 128,
   "id": "efcf431a-a3ec-400d-9f7e-f2d2d7e58b6c",
   "metadata": {},
   "outputs": [],
   "source": [
    "import selenium\n",
    "from bs4 import BeautifulSoup as bs\n",
    "import requests\n",
    "import pandas as pd\n",
    "import lxml"
   ]
  },
  {
   "cell_type": "code",
   "execution_count": 165,
   "id": "30180a0f-591a-4ece-940f-e01b5b949c1a",
   "metadata": {},
   "outputs": [],
   "source": [
    "url='https://www.gnu.ac.kr/dorm/ad/fm/foodmenu/selectFoodMenuView.do?restSeq=47&mi=7278'\n",
    "def brton(x:str):\n",
    "    return x.replace('<br/>','\\n')"
   ]
  },
  {
   "cell_type": "code",
   "execution_count": 166,
   "id": "762a91f2-07b1-4432-a3c9-48954c9d9870",
   "metadata": {},
   "outputs": [],
   "source": [
    "res=requests.get(url)\n",
    "res.raise_for_status()\n",
    "soup=bs(res.text,'lxml')\n",
    "day=soup.find_all('td')\n",
    "date=soup.find('tr').find_all('th')[1:]"
   ]
  },
  {
   "cell_type": "code",
   "execution_count": 167,
   "id": "9b33cda4-0290-4140-836c-4f67db09480a",
   "metadata": {},
   "outputs": [],
   "source": [
    "cleaned_date=[]\n",
    "for d in date:\n",
    "    cleaned_date.append(brton(d.get_text()))"
   ]
  },
  {
   "cell_type": "code",
   "execution_count": 185,
   "id": "3ec1c17d-bc4e-4e17-988f-04881b62e2b6",
   "metadata": {},
   "outputs": [],
   "source": [
    "blackfirst=[]\n",
    "lunch=[]\n",
    "dinner=[]\n",
    "for i in range(21):\n",
    "    if i<7:\n",
    "        blackfirst.append(brton(day[i].get_text()))\n",
    "    elif i<14:\n",
    "        lunch.append(brton(day[i].get_text()))\n",
    "    else:\n",
    "        dinner.append(brton(day[i].get_text()).replace('[공지]어플연동시당일 메뉴 오류가 빈번하게 발생합니다. 학생생활관 홈페이지에서 메뉴를 확인해주세요.',''))\n",
    "a=[blackfirst,\n",
    "   lunch,\n",
    "   dinner]"
   ]
  },
  {
   "cell_type": "code",
   "execution_count": 186,
   "id": "3a591de4-d456-4ffe-be3d-1e589125299a",
   "metadata": {},
   "outputs": [],
   "source": [
    "df=pd.DataFrame(a, columns=cleaned_date)"
   ]
  },
  {
   "cell_type": "code",
   "execution_count": 187,
   "id": "2522e5d3-d18e-48bc-beac-11e8e71edd63",
   "metadata": {},
   "outputs": [
    {
     "data": {
      "text/html": [
       "<div>\n",
       "<style scoped>\n",
       "    .dataframe tbody tr th:only-of-type {\n",
       "        vertical-align: middle;\n",
       "    }\n",
       "\n",
       "    .dataframe tbody tr th {\n",
       "        vertical-align: top;\n",
       "    }\n",
       "\n",
       "    .dataframe thead th {\n",
       "        text-align: right;\n",
       "    }\n",
       "</style>\n",
       "<table border=\"1\" class=\"dataframe\">\n",
       "  <thead>\n",
       "    <tr style=\"text-align: right;\">\n",
       "      <th></th>\n",
       "      <th>월 2025-03-31</th>\n",
       "      <th>화 2025-04-01</th>\n",
       "      <th>수 2025-04-02</th>\n",
       "      <th>목 2025-04-03</th>\n",
       "      <th>금 2025-04-04</th>\n",
       "      <th>토 2025-04-05</th>\n",
       "      <th>일 2025-04-06</th>\n",
       "    </tr>\n",
       "  </thead>\n",
       "  <tbody>\n",
       "    <tr>\n",
       "      <th>0</th>\n",
       "      <td>\\n\\nA코스/한식\\n쌀밥 / 누룽지시락국모듬소시지야채볶음두부민찌조림참나물겉절이배추...</td>\n",
       "      <td>\\n\\nA코스/한식\\n쌀밥 / 누룽지계란파국한입떡갈비조림감자채볶음미역줄기볶음배추김치...</td>\n",
       "      <td>\\n\\nA코스/한식\\n쌀밥 / 누룽지감자맑은국제육김치볶음꽈리멸치볶음콩조림깍두기모듬음...</td>\n",
       "      <td>\\n\\nA코스/한식\\n04월 03일(목)쌀밥 / 누룽지미역국부대볶음스크램블에그숙주나...</td>\n",
       "      <td>\\n\\nA코스/한식\\n쌀밥 / 누룽지계란떡국분홍시지전*케찹두부튀김강정해초샐러드배추김...</td>\n",
       "      <td>\\n\\nA코스/한식\\n쌀밥 / 누룽지콩나물국고추참치볶음물만두찜세발나물무침배추김치모듬...</td>\n",
       "      <td>\\n\\nA코스/한식\\n쌀밥 / 누룽지소고기해장국언양식불고기청포묵김무침시저샐러드배추김...</td>\n",
       "    </tr>\n",
       "    <tr>\n",
       "      <th>1</th>\n",
       "      <td>\\n\\nA코스/한식\\n쌀밥부대찌개가자미구이*유린기s알감자버터구이무생채배추김치바나나\\...</td>\n",
       "      <td>\\n\\nA코스/한식\\n쌀밥어묵국김치피자탕수육맛살조랭이떡볶음짜사이무침배추김치팝콘\\n\\...</td>\n",
       "      <td>\\n\\nA코스/한식\\n쌀밥고추장찌개새우까스*타르S봉어묵콩나물찜깻잎지배추김치매실차\\n...</td>\n",
       "      <td>\\n\\nA코스/한식\\n흑미밥大)삼겹김치찌개미니메밀전병한식잡채얼갈이겉절이깍두기요구르트...</td>\n",
       "      <td>\\n\\nA코스/한식\\n쌀밥시금치된장국고추장불고기연근흑임자무침청미채겉절이배추김치살구주...</td>\n",
       "      <td>\\n\\nA코스/한식\\n쌀밥북어국산적야채조림야채계란찜브로콜리초회배추김치미숫가루\\n\\n</td>\n",
       "      <td>\\n\\nA코스/한식\\n쌀밥참깨수제비국적어구이후랑크야채볶음얼갈이나물배추김치석류주스\\n\\n</td>\n",
       "    </tr>\n",
       "    <tr>\n",
       "      <th>2</th>\n",
       "      <td>\\n\\nA코스/한식\\n쌀밥김치국돈육숙주볶음그린빈스햄볶음톳두부무침깍두기레몬홍차\\n\\n</td>\n",
       "      <td>\\n\\nA코스/한식\\n쌀밥감자수제비국순살돈까스*소스소면야채무침건파래볶음배추김치식혜\\n\\n</td>\n",
       "      <td>\\n\\nA코스/한식\\n미트볼카레덮밥소고기무국야채고로케*케찹샐러드*오리엔탈D배추김치미...</td>\n",
       "      <td>\\n\\nA코스/한식\\n쌀밥   순두부찌개고등어무조림해물완자전청경채겉절이배추김치석류주...</td>\n",
       "      <td>\\n\\nA코스/한식\\n쌀밥   육개장모듬메추리알조림비빔만두미역초무침배추김치포도주스\\n\\n</td>\n",
       "      <td>\\n\\nA코스/한식\\n쌀밥근대된장국돈육간장불고기양배추*다시마쌈천사채맛살무침배추김치망...</td>\n",
       "      <td>\\n\\nA코스/한식\\n쌀밥짬뽕국미니돈까스*강정S부추전콩나물무침깍두기복숭아홍차\\n\\n</td>\n",
       "    </tr>\n",
       "  </tbody>\n",
       "</table>\n",
       "</div>"
      ],
      "text/plain": [
       "                                        월 2025-03-31  \\\n",
       "0  \\n\\nA코스/한식\\n쌀밥 / 누룽지시락국모듬소시지야채볶음두부민찌조림참나물겉절이배추...   \n",
       "1  \\n\\nA코스/한식\\n쌀밥부대찌개가자미구이*유린기s알감자버터구이무생채배추김치바나나\\...   \n",
       "2     \\n\\nA코스/한식\\n쌀밥김치국돈육숙주볶음그린빈스햄볶음톳두부무침깍두기레몬홍차\\n\\n   \n",
       "\n",
       "                                        화 2025-04-01  \\\n",
       "0  \\n\\nA코스/한식\\n쌀밥 / 누룽지계란파국한입떡갈비조림감자채볶음미역줄기볶음배추김치...   \n",
       "1  \\n\\nA코스/한식\\n쌀밥어묵국김치피자탕수육맛살조랭이떡볶음짜사이무침배추김치팝콘\\n\\...   \n",
       "2  \\n\\nA코스/한식\\n쌀밥감자수제비국순살돈까스*소스소면야채무침건파래볶음배추김치식혜\\n\\n   \n",
       "\n",
       "                                        수 2025-04-02  \\\n",
       "0  \\n\\nA코스/한식\\n쌀밥 / 누룽지감자맑은국제육김치볶음꽈리멸치볶음콩조림깍두기모듬음...   \n",
       "1  \\n\\nA코스/한식\\n쌀밥고추장찌개새우까스*타르S봉어묵콩나물찜깻잎지배추김치매실차\\n...   \n",
       "2  \\n\\nA코스/한식\\n미트볼카레덮밥소고기무국야채고로케*케찹샐러드*오리엔탈D배추김치미...   \n",
       "\n",
       "                                        목 2025-04-03  \\\n",
       "0  \\n\\nA코스/한식\\n04월 03일(목)쌀밥 / 누룽지미역국부대볶음스크램블에그숙주나...   \n",
       "1  \\n\\nA코스/한식\\n흑미밥大)삼겹김치찌개미니메밀전병한식잡채얼갈이겉절이깍두기요구르트...   \n",
       "2  \\n\\nA코스/한식\\n쌀밥   순두부찌개고등어무조림해물완자전청경채겉절이배추김치석류주...   \n",
       "\n",
       "                                        금 2025-04-04  \\\n",
       "0  \\n\\nA코스/한식\\n쌀밥 / 누룽지계란떡국분홍시지전*케찹두부튀김강정해초샐러드배추김...   \n",
       "1  \\n\\nA코스/한식\\n쌀밥시금치된장국고추장불고기연근흑임자무침청미채겉절이배추김치살구주...   \n",
       "2  \\n\\nA코스/한식\\n쌀밥   육개장모듬메추리알조림비빔만두미역초무침배추김치포도주스\\n\\n   \n",
       "\n",
       "                                        토 2025-04-05  \\\n",
       "0  \\n\\nA코스/한식\\n쌀밥 / 누룽지콩나물국고추참치볶음물만두찜세발나물무침배추김치모듬...   \n",
       "1     \\n\\nA코스/한식\\n쌀밥북어국산적야채조림야채계란찜브로콜리초회배추김치미숫가루\\n\\n   \n",
       "2  \\n\\nA코스/한식\\n쌀밥근대된장국돈육간장불고기양배추*다시마쌈천사채맛살무침배추김치망...   \n",
       "\n",
       "                                        일 2025-04-06  \n",
       "0  \\n\\nA코스/한식\\n쌀밥 / 누룽지소고기해장국언양식불고기청포묵김무침시저샐러드배추김...  \n",
       "1   \\n\\nA코스/한식\\n쌀밥참깨수제비국적어구이후랑크야채볶음얼갈이나물배추김치석류주스\\n\\n  \n",
       "2     \\n\\nA코스/한식\\n쌀밥짬뽕국미니돈까스*강정S부추전콩나물무침깍두기복숭아홍차\\n\\n  "
      ]
     },
     "metadata": {},
     "output_type": "display_data"
    }
   ],
   "source": [
    "display(df)"
   ]
  },
  {
   "cell_type": "code",
   "execution_count": 175,
   "id": "95eeeac1-776c-4502-8b29-f10a63ba932e",
   "metadata": {},
   "outputs": [],
   "source": [
    "df.to_csv('/home/pioniro/식단.csv',encoding='utf-8-sig',quotechar='\"')"
   ]
  },
  {
   "cell_type": "code",
   "execution_count": null,
   "id": "73bbe0ae-b2b7-4ce7-aa7c-e16db389f9e0",
   "metadata": {},
   "outputs": [],
   "source": []
  }
 ],
 "metadata": {
  "kernelspec": {
   "display_name": "Python 3 (ipykernel)",
   "language": "python",
   "name": "python3"
  },
  "language_info": {
   "codemirror_mode": {
    "name": "ipython",
    "version": 3
   },
   "file_extension": ".py",
   "mimetype": "text/x-python",
   "name": "python",
   "nbconvert_exporter": "python",
   "pygments_lexer": "ipython3",
   "version": "3.11.11"
  }
 },
 "nbformat": 4,
 "nbformat_minor": 5
}
