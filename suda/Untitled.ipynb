{
 "cells": [
  {
   "cell_type": "markdown",
   "id": "bb1b152c-80c2-49f5-9a60-9f513a321cbf",
   "metadata": {},
   "source": [
    "직접 루프를 만들고 %timeit으로 속도를 비교해보겠음"
   ]
  },
  {
   "cell_type": "code",
   "execution_count": null,
   "id": "9859ca3b-3416-4f07-9685-4e49408043de",
   "metadata": {},
   "outputs": [],
   "source": [
    "for i in"
   ]
  }
 ],
 "metadata": {
  "kernelspec": {
   "display_name": "Python 3 (ipykernel)",
   "language": "python",
   "name": "python3"
  },
  "language_info": {
   "codemirror_mode": {
    "name": "ipython",
    "version": 3
   },
   "file_extension": ".py",
   "mimetype": "text/x-python",
   "name": "python",
   "nbconvert_exporter": "python",
   "pygments_lexer": "ipython3",
   "version": "3.11.11"
  }
 },
 "nbformat": 4,
 "nbformat_minor": 5
}
