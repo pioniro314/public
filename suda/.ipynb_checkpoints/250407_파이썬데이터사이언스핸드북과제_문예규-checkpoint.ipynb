{
 "cells": [
  {
   "cell_type": "code",
   "execution_count": 4,
   "id": "22985cd3-f0a3-434b-8a97-36942d75220a",
   "metadata": {},
   "outputs": [
    {
     "data": {
      "text/plain": [
       "array([0.11111111, 0.25      , 1.        , 0.33333333, 0.125     ])"
      ]
     },
     "execution_count": 4,
     "metadata": {},
     "output_type": "execute_result"
    }
   ],
   "source": [
    "import numpy as np\n",
    "rng = np.random.default_rng(seed=1701)\n",
    "\n",
    "def compute_reciprocals(values):\n",
    "    output = np.empty(len(values))\n",
    "    for i in range(len(values)):\n",
    "        output[i] = 1.0 / values[i]\n",
    "    return output\n",
    "        \n",
    "values = rng.integers(1, 10, size=5)\n",
    "compute_reciprocals(values)"
   ]
  },
  {
   "cell_type": "code",
   "execution_count": 5,
   "id": "4e143b42-ed0f-4a78-a4ee-4ac8e2036494",
   "metadata": {},
   "outputs": [
    {
     "name": "stdout",
     "output_type": "stream",
     "text": [
      "4.59 s ± 580 ms per loop (mean ± std. dev. of 7 runs, 1 loop each)\n"
     ]
    }
   ],
   "source": [
    "big_array = rng.integers(1, 100, size=1000000)\n",
    "%timeit compute_reciprocals(big_array)"
   ]
  },
  {
   "cell_type": "markdown",
   "id": "911e984b-6cf1-451a-a9be-93699b0658e4",
   "metadata": {},
   "source": [
    "- default_rng는 np.random이 전역적인 난수 생성기라는 약점을 극복하고 지역적인 난수를 생성해준다고 한다.\n",
    "- 이는 하나의 시드에서 두 샘플을 테스트할때 두 샘플의 독립성을 유지하거나 하는 등의 일에 유리한 이점이 있다.\n",
    "- 대충 더 좋은 난수 생성기라 생각하면 된다.\n",
    "- 또한 %로 시작하는 명령어는 매직 명령어인데, ipython 이나 jupyter 전용 명령어라 한다. 부가기능을 제공하는 명령어들이다.\n",
    "- 코드의 내용은 values를 인자로 받아서 for 루프를 돌려 역수들을 output에 저장해 반환하는 함수를 만들고, rng로 랜덤한 값들에 적용해보는 내용인데, 1~100 사이의 랜덤한 정수를 100만개 뽑아서 values로 주면 4.39초 플마 378미리초 표준편차 걸린다는 내용이다(컴퓨터 성능마다 다름 지금 환경이 내 낡은 노트북이라 더욱 느리게 나온듯 하다.)\n",
    "- 루프당 4.39초는 for문이 반복하는 각각의 루프가 아니라 전체를 말하는 것이다.\n",
    "- 100만개에 5초 미만이면 별로 안느린것 같은데 사실은 엄청 느린거라한다. 그리고 그마저도 작업 자체가 아니라 동적 타입에 대한 검사 등에 의해 주로 느려진다한다."
   ]
  },
  {
   "cell_type": "code",
   "execution_count": 6,
   "id": "c6014dc9-41d3-413c-91d4-8488cd77d807",
   "metadata": {},
   "outputs": [
    {
     "name": "stdout",
     "output_type": "stream",
     "text": [
      "3.83 ms ± 178 μs per loop (mean ± std. dev. of 7 runs, 100 loops each)\n"
     ]
    }
   ],
   "source": [
    "%timeit (1.0 / big_array)"
   ]
  },
  {
   "cell_type": "markdown",
   "id": "033528d1-a8d3-4e8f-b03e-8397847f0b82",
   "metadata": {},
   "source": [
    "- 위는 같은 big_array에 대한 연산이지만 1.7 밀리세컨드에 표준편차 49.5 마이크로세컨드다\n",
    "- 벡터화된 연산이라고 루프를 돌리지 않고 그냥 긴 벡터에 바로 나눠주는거다. c로 구현했다고 한다. 빠르다.\n",
    "- 일반 파이썬 연산 하듯 / 하나로 간단하게 연산가능하다.\n",
    "- 두 벡터를 componentwise하게 나눠줄수도 있다."
   ]
  },
  {
   "cell_type": "code",
   "execution_count": 7,
   "id": "7562a1ad-042b-446d-8986-0e5a55ac4248",
   "metadata": {},
   "outputs": [
    {
     "name": "stdout",
     "output_type": "stream",
     "text": [
      "x      = [0 1 2 3]\n",
      "x + 5  = [5 6 7 8]\n",
      "x - 5  = [-5 -4 -3 -2]\n",
      "x * 2  = [0 2 4 6]\n",
      "x / 2  = [0.  0.5 1.  1.5]\n",
      "x // 2 = [0 0 1 1]\n",
      "-x     =  [ 0 -1 -2 -3]\n",
      "x ** 2 =  [0 1 4 9]\n",
      "x % 2  =  [0 1 0 1]\n"
     ]
    }
   ],
   "source": [
    "x = np.arange(4)\n",
    "print(\"x      =\", x)\n",
    "print(\"x + 5  =\", x + 5)\n",
    "print(\"x - 5  =\", x - 5)\n",
    "print(\"x * 2  =\", x * 2)\n",
    "print(\"x / 2  =\", x / 2)\n",
    "print(\"x // 2 =\", x // 2)\n",
    "print(\"-x     = \", -x)\n",
    "print(\"x ** 2 = \", x ** 2)\n",
    "print(\"x % 2  = \", x % 2)\n",
    "# 기본 산술연산자를 다 지원한다."
   ]
  },
  {
   "cell_type": "markdown",
   "id": "d270438e-cac2-486a-9eef-b88f00f9ea43",
   "metadata": {},
   "source": [
    "### 이렇게 함수 확장시킨 것을 wrapper 함수라고 부른다.\n",
    "- 절댓값 지수함수 삼각함수도 지원한다.\n",
    "- 그리고 정밀도 개선한 버전도 있다. 근데 이런거 자잘한거 다 써보고 외우는거보다 필요할때 그때그때 찾아 쓰는게 더 실용적인 태도라고 생각한다. 그런게 있더라 정도만 기억해두면 된다고 본다. egoing님 피셜이다. 나도 그분의 의견에 전적으로 동의한다. 지엽적인 부분에 시간과 자원을 매몰할 이유가 없다. 큰 그림을 그려나가고 효율적으로 학습하는게 좋다고 생각한다.\n",
    "- 무엇보다 어차피 다 못외운다. 최소한 나는\n",
    "\n",
    "### 이하는 고급 기능이다."
   ]
  },
  {
   "cell_type": "code",
   "execution_count": 8,
   "id": "ec15f7ca-38f6-4739-b8f3-816168ad302a",
   "metadata": {},
   "outputs": [
    {
     "name": "stdout",
     "output_type": "stream",
     "text": [
      "[ 0. 10. 20. 30. 40.]\n"
     ]
    }
   ],
   "source": [
    "x = np.arange(5)\n",
    "y = np.empty(5)\n",
    "np.multiply(x, 10, out=y)\n",
    "print(y)"
   ]
  },
  {
   "cell_type": "markdown",
   "id": "17756b05-2cc7-4320-8195-c03361d6828d",
   "metadata": {},
   "source": [
    "- 사이즈가 맞는 배열을 out 매개변수의 인자로 지정해주면 연산결과를 거기다 저장한다. 기존의 y는 덮어써진다."
   ]
  },
  {
   "cell_type": "code",
   "execution_count": 9,
   "id": "795e23ce-b386-4320-9f57-737370756356",
   "metadata": {},
   "outputs": [
    {
     "name": "stdout",
     "output_type": "stream",
     "text": [
      "[ 1.  0.  2.  0.  4.  0.  8.  0. 16.  0.]\n"
     ]
    }
   ],
   "source": [
    "y = np.zeros(10)\n",
    "np.power(2, x, out=y[::2])\n",
    "print(y)"
   ]
  },
  {
   "cell_type": "markdown",
   "id": "1eafdd4c-171a-4971-8cc7-00177241ddef",
   "metadata": {},
   "source": [
    "- 사이즈가 꼭 그대로 일치해야하는건 아니고, 이렇게 두칸 간격으로 저장시킬 수도 있다.\n",
    "- [:::]의 각 칸은 range(,,)의 각 칸과 유사하게 어디에서 시작해서 어디에서 끝내며 어느 간격으로 띄울지를 정한다."
   ]
  },
  {
   "cell_type": "code",
   "execution_count": 10,
   "id": "3b3b9151-91f7-434e-af84-262a35be3569",
   "metadata": {},
   "outputs": [
    {
     "name": "stdout",
     "output_type": "stream",
     "text": [
      "15\n"
     ]
    }
   ],
   "source": [
    "x = np.arange(1, 6)\n",
    "print(np.add.reduce(x))"
   ]
  },
  {
   "cell_type": "markdown",
   "id": "4ea9d7c9-d671-4857-b40a-f61ceb841b7d",
   "metadata": {},
   "source": [
    "# 이항 ufunc의 경우 .reduce를 통해 배열의 각 원소를 모두 연산해서 스칼라로 만들어버릴 수 있다.\n",
    "- 더하기나 곱하기야 별 문제 없겠으나, 빼기나 나누기처럼 교환법칙이 성립하지 않는 경우는 어떠할까?"
   ]
  },
  {
   "cell_type": "code",
   "execution_count": 11,
   "id": "d5aefb2a-0f11-4184-8ae7-62ced715a186",
   "metadata": {},
   "outputs": [
    {
     "name": "stdout",
     "output_type": "stream",
     "text": [
      "10.0\n"
     ]
    }
   ],
   "source": [
    "x = np.array([100, 5, 2])\n",
    "print(np.divide.reduce(x))"
   ]
  },
  {
   "cell_type": "markdown",
   "id": "9c9d9b57-debd-4235-b9a8-704e8bd58ecd",
   "metadata": {},
   "source": [
    "### 아마도 첫번째거 빼곤 다 역원을 더하거나 곱하는 식으로 가나 보다.\n",
    "- 이를 확인하기 위해 중간과정을 모두 기록해주는 accumulate를 사용해보자"
   ]
  },
  {
   "cell_type": "code",
   "execution_count": 12,
   "id": "17bcf1c5-45c8-4f72-a03e-d0587da308f9",
   "metadata": {},
   "outputs": [
    {
     "name": "stdout",
     "output_type": "stream",
     "text": [
      "[100.  20.  10.]\n"
     ]
    }
   ],
   "source": [
    "x = np.array([100, 5, 2])\n",
    "print(np.divide.accumulate(x))"
   ]
  },
  {
   "cell_type": "markdown",
   "id": "6572ffc6-dc3d-4130-ad92-b2b36d652e34",
   "metadata": {},
   "source": [
    "# 5를 나누고 나서 2를 나누는 작업이 맞나보다."
   ]
  },
  {
   "cell_type": "code",
   "execution_count": 13,
   "id": "c76d1fb3-b643-4b7f-a6b1-11110574e359",
   "metadata": {},
   "outputs": [
    {
     "data": {
      "text/plain": [
       "array([[ 1,  2,  3,  4,  5],\n",
       "       [ 2,  4,  6,  8, 10],\n",
       "       [ 3,  6,  9, 12, 15],\n",
       "       [ 4,  8, 12, 16, 20],\n",
       "       [ 5, 10, 15, 20, 25]])"
      ]
     },
     "execution_count": 13,
     "metadata": {},
     "output_type": "execute_result"
    }
   ],
   "source": [
    "x = np.arange(1, 6)\n",
    "np.multiply.outer(x, x)"
   ]
  },
  {
   "cell_type": "markdown",
   "id": "e6b437a4-0ff0-47c8-a387-a3de6af49aff",
   "metadata": {},
   "source": [
    "# outter를 주면 두 배열의 카티지언곱 비슷한걸 수행하고 그 각각의 순서쌍을 연산하는 작업같은걸 한다. 이것을 outter product라 하는가보다. 처음 본다."
   ]
  },
  {
   "cell_type": "code",
   "execution_count": 14,
   "id": "5a3569a9-6915-4aaa-b6d0-1010e3e4d648",
   "metadata": {},
   "outputs": [
    {
     "name": "stdout",
     "output_type": "stream",
     "text": [
      "15\n"
     ]
    }
   ],
   "source": [
    "# 이제 집계함수를 다뤄보자.\n",
    "print(np.sum(np.arange(6)))\n",
    "\n",
    "# sum min max prod mean median 등등으로 배열의 각 원소를 모두 더하거나 곱하거나 최소 최대 평균 중앙값 등을 반환할 수 있다\n",
    "# nansum nanmin 등을 사용하면 결측치를 무시하고 연산을 한다."
   ]
  },
  {
   "cell_type": "code",
   "execution_count": 15,
   "id": "40c11717-1b2c-4726-bb68-6b8c7ecbb870",
   "metadata": {},
   "outputs": [
    {
     "name": "stdout",
     "output_type": "stream",
     "text": [
      "   order               name  height(cm)\n",
      "0      1  George Washington         189\n",
      "1      2         John Adams         170\n",
      "2      3   Thomas Jefferson         189\n",
      "3      4      James Madison         163\n",
      "4      5       James Monroe         183\n"
     ]
    }
   ],
   "source": [
    "# 예시로 미국 대통령 키를 기술통계로 요약한다.\n",
    "import pandas as pd\n",
    "df = pd.read_csv('/home/pioniro/public/suda/presidents_heights.csv')\n",
    "print(df.head())"
   ]
  },
  {
   "cell_type": "code",
   "execution_count": 17,
   "id": "df2d89b3-83ac-4b1e-ac42-12891ca9e888",
   "metadata": {},
   "outputs": [
    {
     "name": "stdout",
     "output_type": "stream",
     "text": [
      "[189 170 189 163 183 171 185 168 173 183 173 173 175 178 183 193 178 173\n",
      " 174 183 183 168 170 178 182 180 183 178 182 188 175 179 183 193 182 183\n",
      " 177 185 188 188 182 185]\n"
     ]
    }
   ],
   "source": [
    "heights = np.array(df['height(cm)'])\n",
    "print(heights)"
   ]
  },
  {
   "cell_type": "code",
   "execution_count": 20,
   "id": "82e40d85-df57-48fe-a227-9a7e24a4893a",
   "metadata": {},
   "outputs": [
    {
     "name": "stdout",
     "output_type": "stream",
     "text": [
      "평균 키:  179.73809523809524\n",
      "표준 편차: 6.931843442745892\n",
      "최소 키:  163\n",
      "최대 키:  193\n",
      "25번째 백분위수:  174.25\n",
      "중앙값:  182.0\n",
      "75번째 백분위수:  183.0\n"
     ]
    },
    {
     "data": {
      "text/html": [
       "<div>\n",
       "<style scoped>\n",
       "    .dataframe tbody tr th:only-of-type {\n",
       "        vertical-align: middle;\n",
       "    }\n",
       "\n",
       "    .dataframe tbody tr th {\n",
       "        vertical-align: top;\n",
       "    }\n",
       "\n",
       "    .dataframe thead th {\n",
       "        text-align: right;\n",
       "    }\n",
       "</style>\n",
       "<table border=\"1\" class=\"dataframe\">\n",
       "  <thead>\n",
       "    <tr style=\"text-align: right;\">\n",
       "      <th></th>\n",
       "      <th>order</th>\n",
       "      <th>height(cm)</th>\n",
       "    </tr>\n",
       "  </thead>\n",
       "  <tbody>\n",
       "    <tr>\n",
       "      <th>count</th>\n",
       "      <td>42.000000</td>\n",
       "      <td>42.000000</td>\n",
       "    </tr>\n",
       "    <tr>\n",
       "      <th>mean</th>\n",
       "      <td>22.476190</td>\n",
       "      <td>179.738095</td>\n",
       "    </tr>\n",
       "    <tr>\n",
       "      <th>std</th>\n",
       "      <td>13.152461</td>\n",
       "      <td>7.015869</td>\n",
       "    </tr>\n",
       "    <tr>\n",
       "      <th>min</th>\n",
       "      <td>1.000000</td>\n",
       "      <td>163.000000</td>\n",
       "    </tr>\n",
       "    <tr>\n",
       "      <th>25%</th>\n",
       "      <td>11.250000</td>\n",
       "      <td>174.250000</td>\n",
       "    </tr>\n",
       "    <tr>\n",
       "      <th>50%</th>\n",
       "      <td>22.000000</td>\n",
       "      <td>182.000000</td>\n",
       "    </tr>\n",
       "    <tr>\n",
       "      <th>75%</th>\n",
       "      <td>33.750000</td>\n",
       "      <td>183.000000</td>\n",
       "    </tr>\n",
       "    <tr>\n",
       "      <th>max</th>\n",
       "      <td>44.000000</td>\n",
       "      <td>193.000000</td>\n",
       "    </tr>\n",
       "  </tbody>\n",
       "</table>\n",
       "</div>"
      ],
      "text/plain": [
       "           order  height(cm)\n",
       "count  42.000000   42.000000\n",
       "mean   22.476190  179.738095\n",
       "std    13.152461    7.015869\n",
       "min     1.000000  163.000000\n",
       "25%    11.250000  174.250000\n",
       "50%    22.000000  182.000000\n",
       "75%    33.750000  183.000000\n",
       "max    44.000000  193.000000"
      ]
     },
     "execution_count": 20,
     "metadata": {},
     "output_type": "execute_result"
    }
   ],
   "source": [
    "print(\"평균 키: \", heights.mean())\n",
    "print(\"표준 편차:\", heights.std())\n",
    "print(\"최소 키: \", heights.min())\n",
    "print(\"최대 키: \", heights.max())\n",
    "print(\"25번째 백분위수: \", np.percentile(heights, 25))\n",
    "print(\"중앙값: \", np.median(heights))\n",
    "print(\"75번째 백분위수: \", np.percentile(heights, 75))\n",
    "df.describe() #검산용. 약간 다르게 나온다. 모집단으로 보냐 표본으로 보냐에 따라 다르다는듯"
   ]
  },
  {
   "cell_type": "code",
   "execution_count": 22,
   "id": "9f0e893f-9566-4ca6-bb47-8f6d3425cfc7",
   "metadata": {},
   "outputs": [
    {
     "data": {
      "image/png": "[encoded data removed]",
      "text/plain": [
       "<Figure size 640x480 with 1 Axes>"
      ]
     },
     "metadata": {},
     "output_type": "display_data"
    }
   ],
   "source": [
    "%matplotlib inline\n",
    "import matplotlib.pyplot as plt\n",
    "import matplotlib.font_manager as fm\n",
    "\n",
    "path='/usr/share/fonts/truetype/nanum/NanumGothic.ttf'\n",
    "fontprop = fm.FontProperties(fname=path, size=12)\n",
    "plt.rc('font', family=fontprop.get_name()) #한글 깨져서 폰트설정\n",
    "\n",
    "plt.hist(heights)# 히스토그램\n",
    "plt.title('미국 대통령의 키 분포')#제목\n",
    "plt.xlabel('키 (cm)')#x축 이름\n",
    "plt.ylabel('수');# y 축 이름\n",
    "plt.show()"
   ]
  }
 ],
 "metadata": {
  "kernelspec": {
   "display_name": "Python 3 (ipykernel)",
   "language": "python",
   "name": "python3"
  },
  "language_info": {
   "codemirror_mode": {
    "name": "ipython",
    "version": 3
   },
   "file_extension": ".py",
   "mimetype": "text/x-python",
   "name": "python",
   "nbconvert_exporter": "python",
   "pygments_lexer": "ipython3",
   "version": "3.11.11"
  }
 },
 "nbformat": 4,
 "nbformat_minor": 5
}
