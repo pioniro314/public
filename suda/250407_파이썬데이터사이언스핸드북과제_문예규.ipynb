{
 "cells": [
  {
   "cell_type": "code",
   "execution_count": 1,
   "id": "22985cd3-f0a3-434b-8a97-36942d75220a",
   "metadata": {},
   "outputs": [
    {
     "data": {
      "text/plain": [
       "array([0.11111111, 0.25      , 1.        , 0.33333333, 0.125     ])"
      ]
     },
     "execution_count": 1,
     "metadata": {},
     "output_type": "execute_result"
    }
   ],
   "source": [
    "import numpy as np\n",
    "rng = np.random.default_rng(seed=1701)\n",
    "\n",
    "def compute_reciprocals(values):\n",
    "    output = np.empty(len(values))\n",
    "    for i in range(len(values)):\n",
    "        output[i] = 1.0 / values[i]\n",
    "    return output\n",
    "        \n",
    "values = rng.integers(1, 10, size=5)\n",
    "compute_reciprocals(values)"
   ]
  },
  {
   "cell_type": "code",
   "execution_count": 2,
   "id": "4e143b42-ed0f-4a78-a4ee-4ac8e2036494",
   "metadata": {},
   "outputs": [
    {
     "name": "stdout",
     "output_type": "stream",
     "text": [
      "4.39 s ± 378 ms per loop (mean ± std. dev. of 7 runs, 1 loop each)\n"
     ]
    }
   ],
   "source": [
    "big_array = rng.integers(1, 100, size=1000000)\n",
    "%timeit compute_reciprocals(big_array)"
   ]
  },
  {
   "cell_type": "markdown",
   "id": "911e984b-6cf1-451a-a9be-93699b0658e4",
   "metadata": {},
   "source": [
    "- default_rng는 np.random이 전역적인 난수 생성기라는 약점을 극복하고 지역적인 난수를 생성해준다고 한다.\n",
    "- 이는 하나의 시드에서 두 샘플을 테스트할때 두 샘플의 독립성을 유지하거나 하는 등의 일에 유리한 이점이 있다.\n",
    "- 대충 더 좋은 난수 생성기라 생각하면 된다.\n",
    "- 또한 %로 시작하는 명령어는 매직 명령어인데, ipython 이나 jupyter 전용 명령어라 한다. 부가기능을 제공하는 명령어들이다.\n",
    "- 코드의 내용은 values를 인자로 받아서 for 루프를 돌려 역수들을 output에 저장해 반환하는 함수를 만들고, rng로 랜덤한 값들에 적용해보는 내용인데, 1~100 사이의 랜덤한 정수를 100만개 뽑아서 values로 주면 4.39초 플마 378미리초 표준편차 걸린다는 내용이다(컴퓨터 성능마다 다름 지금 환경이 내 낡은 노트북이라 더욱 느리게 나온듯 하다.)\n",
    "- 루프당 4.39초는 for문이 반복하는 각각의 루프가 아니라 전체를 말하는 것이다.\n",
    "- 100만개에 5초 미만이면 별로 안느린것 같은데 사실은 엄청 느린거라한다. 그리고 그마저도 작업 자체가 아니라 동적 타입에 대한 검사 등에 의해 주로 느려진다한다."
   ]
  },
  {
   "cell_type": "code",
   "execution_count": 3,
   "id": "c6014dc9-41d3-413c-91d4-8488cd77d807",
   "metadata": {},
   "outputs": [
    {
     "name": "stdout",
     "output_type": "stream",
     "text": [
      "1.7 ms ± 49.5 μs per loop (mean ± std. dev. of 7 runs, 1,000 loops each)\n"
     ]
    }
   ],
   "source": [
    "%timeit (1.0 / big_array)"
   ]
  },
  {
   "cell_type": "markdown",
   "id": "033528d1-a8d3-4e8f-b03e-8397847f0b82",
   "metadata": {},
   "source": [
    "- 위는 같은 big_array에 대한 연산이지만 1.7 밀리세컨드에 표준편차 49.5 마이크로세컨드다\n",
    "- 벡터화된 연산이라고 루프를 돌리지 않고 그냥 긴 벡터에 바로 나눠주는거다. c로 구현했다고 한다. 빠르다.\n",
    "- 일반 파이썬 연산 하듯 / 하나로 간단하게 연산가능하다.\n",
    "- 두 벡터를 componentwise하게 나눠줄수도 있다."
   ]
  },
  {
   "cell_type": "code",
   "execution_count": 6,
   "id": "7562a1ad-042b-446d-8986-0e5a55ac4248",
   "metadata": {},
   "outputs": [
    {
     "name": "stdout",
     "output_type": "stream",
     "text": [
      "x      = [0 1 2 3]\n",
      "x + 5  = [5 6 7 8]\n",
      "x - 5  = [-5 -4 -3 -2]\n",
      "x * 2  = [0 2 4 6]\n",
      "x / 2  = [0.  0.5 1.  1.5]\n",
      "x // 2 = [0 0 1 1]\n",
      "-x     =  [ 0 -1 -2 -3]\n",
      "x ** 2 =  [0 1 4 9]\n",
      "x % 2  =  [0 1 0 1]\n"
     ]
    }
   ],
   "source": [
    "x = np.arange(4)\n",
    "print(\"x      =\", x)\n",
    "print(\"x + 5  =\", x + 5)\n",
    "print(\"x - 5  =\", x - 5)\n",
    "print(\"x * 2  =\", x * 2)\n",
    "print(\"x / 2  =\", x / 2)\n",
    "print(\"x // 2 =\", x // 2)\n",
    "print(\"-x     = \", -x)\n",
    "print(\"x ** 2 = \", x ** 2)\n",
    "print(\"x % 2  = \", x % 2)\n",
    "# 기본 산술연산자를 다 지원한다."
   ]
  },
  {
   "cell_type": "markdown",
   "id": "d270438e-cac2-486a-9eef-b88f00f9ea43",
   "metadata": {},
   "source": [
    "### 이렇게 함수 확장시킨 것을 wrapper 함수라고 부른다.\n",
    "- 절댓값 지수함수 삼각함수도 지원한다.\n",
    "- 그리고 정밀도 개선한 버전도 있다. 근데 이런거 자잘한거 다 써보고 외우는거보다 필요할때 그때그때 찾아 쓰는게 더 실용적인 태도라고 생각한다. 그런게 있더라 정도만 기억해두면 된다고 본다. egoing님 피셜이다. 나도 그분의 의견에 전적으로 동의한다. 지엽적인 부분에 시간과 자원을 매몰할 이유가 없다. 큰 그림을 그려나가고 효율적으로 학습하는게 좋다고 생각한다.\n",
    "- 무엇보다 어차피 다 못외운다. 최소한 나는\n",
    "\n",
    "### 이하는 고급 기능이다."
   ]
  },
  {
   "cell_type": "code",
   "execution_count": 7,
   "id": "ec15f7ca-38f6-4739-b8f3-816168ad302a",
   "metadata": {},
   "outputs": [
    {
     "name": "stdout",
     "output_type": "stream",
     "text": [
      "[ 0. 10. 20. 30. 40.]\n"
     ]
    }
   ],
   "source": [
    "x = np.arange(5)\n",
    "y = np.empty(5)\n",
    "np.multiply(x, 10, out=y)\n",
    "print(y)"
   ]
  },
  {
   "cell_type": "markdown",
   "id": "17756b05-2cc7-4320-8195-c03361d6828d",
   "metadata": {},
   "source": [
    "- 사이즈가 맞는 배열을 out 매개변수의 인자로 지정해주면 연산결과를 거기다 저장한다. 기존의 y는 덮어써진다."
   ]
  },
  {
   "cell_type": "code",
   "execution_count": 8,
   "id": "795e23ce-b386-4320-9f57-737370756356",
   "metadata": {},
   "outputs": [
    {
     "name": "stdout",
     "output_type": "stream",
     "text": [
      "[ 1.  0.  2.  0.  4.  0.  8.  0. 16.  0.]\n"
     ]
    }
   ],
   "source": [
    "y = np.zeros(10)\n",
    "np.power(2, x, out=y[::2])\n",
    "print(y)"
   ]
  },
  {
   "cell_type": "markdown",
   "id": "1eafdd4c-171a-4971-8cc7-00177241ddef",
   "metadata": {},
   "source": [
    "- 사이즈가 꼭 그대로 일치해야하는건 아니고, 이렇게 두칸 간격으로 저장시킬 수도 있다.\n",
    "- [:::]의 각 칸은 range(,,)의 각 칸과 유사하게 어디에서 시작해서 어디에서 끝내며 어느 간격으로 띄울지를 정한다."
   ]
  },
  {
   "cell_type": "code",
   "execution_count": 11,
   "id": "3b3b9151-91f7-434e-af84-262a35be3569",
   "metadata": {},
   "outputs": [
    {
     "name": "stdout",
     "output_type": "stream",
     "text": [
      "15\n"
     ]
    }
   ],
   "source": [
    "x = np.arange(1, 6)\n",
    "print(np.add.reduce(x))"
   ]
  },
  {
   "cell_type": "markdown",
   "id": "4ea9d7c9-d671-4857-b40a-f61ceb841b7d",
   "metadata": {},
   "source": [
    "# 이항 ufunc의 경우 .reduce를 통해 배열의 각 원소를 모두 연산해서 스칼라로 만들어버릴 수 있다.\n",
    "- 더하기나 곱하기야 별 문제 없겠으나, 빼기나 나누기처럼 교환법칙이 성립하지 않는 경우는 어떠할까?"
   ]
  },
  {
   "cell_type": "code",
   "execution_count": 12,
   "id": "d5aefb2a-0f11-4184-8ae7-62ced715a186",
   "metadata": {},
   "outputs": [
    {
     "name": "stdout",
     "output_type": "stream",
     "text": [
      "10.0\n"
     ]
    }
   ],
   "source": [
    "x = np.array([100, 5, 2])\n",
    "print(np.divide.reduce(x))"
   ]
  },
  {
   "cell_type": "markdown",
   "id": "9c9d9b57-debd-4235-b9a8-704e8bd58ecd",
   "metadata": {},
   "source": [
    "### 아마도 첫번째거 빼곤 다 역원을 더하거나 곱하는 식으로 가나 보다.\n",
    "- 이를 확인하기 위해 중간과정을 모두 기록해주는 accumulate를 사용해보자"
   ]
  },
  {
   "cell_type": "code",
   "execution_count": 14,
   "id": "17bcf1c5-45c8-4f72-a03e-d0587da308f9",
   "metadata": {},
   "outputs": [
    {
     "name": "stdout",
     "output_type": "stream",
     "text": [
      "[100.  20.  10.]\n"
     ]
    }
   ],
   "source": [
    "x = np.array([100, 5, 2])\n",
    "print(np.divide.accumulate(x))"
   ]
  },
  {
   "cell_type": "markdown",
   "id": "6572ffc6-dc3d-4130-ad92-b2b36d652e34",
   "metadata": {},
   "source": [
    "# 5를 나누고 나서 2를 나누는 작업이 맞나보다."
   ]
  },
  {
   "cell_type": "code",
   "execution_count": 15,
   "id": "c76d1fb3-b643-4b7f-a6b1-11110574e359",
   "metadata": {},
   "outputs": [
    {
     "data": {
      "text/plain": [
       "array([[ 1,  2,  3,  4,  5],\n",
       "       [ 2,  4,  6,  8, 10],\n",
       "       [ 3,  6,  9, 12, 15],\n",
       "       [ 4,  8, 12, 16, 20],\n",
       "       [ 5, 10, 15, 20, 25]])"
      ]
     },
     "execution_count": 15,
     "metadata": {},
     "output_type": "execute_result"
    }
   ],
   "source": [
    "x = np.arange(1, 6)\n",
    "np.multiply.outer(x, x)"
   ]
  },
  {
   "cell_type": "markdown",
   "id": "e6b437a4-0ff0-47c8-a387-a3de6af49aff",
   "metadata": {},
   "source": [
    "# outter를 주면 두 배열의 카티지언곱 비슷한걸 수행하고 그 각각의 순서쌍을 연산하는 작업같은걸 한다. 이것을 outter product라 하는가보다. 처음 본다."
   ]
  },
  {
   "cell_type": "markdown",
   "id": "647bfd74-8579-4d83-b491-f4f40e8fbbd5",
   "metadata": {},
   "source": [
    "# 일단 func까지만 하고 나머지는 내일 하겠다. 미안하다. 목요일까지 미분방정식 시험있었고 금토일에 가정사로 본가를 갔다. 3000원 나간게 슬프다. 시험기간엔 쉬길래 좀 늦게 내도 되는줄 알았다.\n",
    "![내 3000원](data:image/jpeg;base64,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)"
   ]
  }
 ],
 "metadata": {
  "kernelspec": {
   "display_name": "Python 3 (ipykernel)",
   "language": "python",
   "name": "python3"
  },
  "language_info": {
   "codemirror_mode": {
    "name": "ipython",
    "version": 3
   },
   "file_extension": ".py",
   "mimetype": "text/x-python",
   "name": "python",
   "nbconvert_exporter": "python",
   "pygments_lexer": "ipython3",
   "version": "3.11.11"
  }
 },
 "nbformat": 4,
 "nbformat_minor": 5
}
